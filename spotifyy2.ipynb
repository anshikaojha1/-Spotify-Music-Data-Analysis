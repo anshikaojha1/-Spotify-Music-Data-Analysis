{
 "cells": [
  {
   "cell_type": "markdown",
   "id": "5d8f79da-94c5-4895-89bb-843247a01485",
   "metadata": {},
   "source": [
    "# 🎧 Spotify Music Data Analysis "
   ]
  },
  {
   "cell_type": "markdown",
   "id": "69571b4f-7515-40a7-825e-dd36d69c74f2",
   "metadata": {},
   "source": [
    "# Average Popularity of Music Genres"
   ]
  },
  {
   "cell_type": "code",
   "execution_count": null,
   "id": "5c1d9c11-275f-40a7-a65a-f38660a36184",
   "metadata": {},
   "outputs": [],
   "source": [
    "import pandas as pd\n",
    "import plotly.express as px\n",
    "\n",
    "dataset_path = r\"C:\\Users\\Z-BLOCK\\Downloads\\archive (17).zip\"\n",
    "df = pd.read_csv(dataset_path)\n",
    "\n",
    "# Group by genre and calculate average popularity\n",
    "genre_popularity = df.groupby(\"track_genre\")[\"popularity\"].mean().reset_index()\n",
    "genre_popularity = genre_popularity.sort_values(by=\"popularity\", ascending=False)\n",
    "\n",
    "# interactive bar chart\n",
    "fig = px.bar(\n",
    "    genre_popularity,\n",
    "    x='track_genre',\n",
    "    y='popularity',\n",
    "    title='Average Popularity of Music Genres',\n",
    "    labels={'track_genre': 'Genre', 'popularity': 'Average Popularity'},\n",
    "    color='popularity',\n",
    "    color_continuous_scale='Blues'\n",
    ")\n",
    "\n",
    "fig.update_layout(xaxis_tickangle=90, xaxis_title='Music Genre', yaxis_title='Popularity')\n",
    "\n",
    "fig.show()"
   ]
  },
  {
   "cell_type": "markdown",
   "id": "486ce750-be4c-4cd4-b81a-8aeff5fc418a",
   "metadata": {},
   "source": [
    "# Top 10 Most Popular Artists Based on Average Track Popularity"
   ]
  },
  {
   "cell_type": "code",
   "execution_count": null,
   "id": "6f4793e1-ec5f-41cf-bc03-ec6d704c65b9",
   "metadata": {},
   "outputs": [],
   "source": [
    "# Grouping by artist and calculating the average popularity for each artist\n",
    "artist_popularity = df.groupby('artists')['popularity'].mean().reset_index()\n",
    "\n",
    "# Sorting artists by average popularity in descending order\n",
    "artist_popularity_sorted = artist_popularity.sort_values(by='popularity', ascending=False)\n",
    "\n",
    "# top 10 most popular artists based on average track popularity\n",
    "print(artist_popularity_sorted.head(10))\n",
    "\n",
    "fig = px.bar(artist_popularity_sorted.head(10), \n",
    "             x='artists', \n",
    "             y='popularity', \n",
    "             title=\"Top 10 Most Popular Artists Based on Average Track Popularity\",\n",
    "             labels={'artists': 'Artist', 'popularity': 'Average Popularity'},\n",
    "             color='popularity',\n",
    "             color_continuous_scale='Viridis')\n",
    "\n",
    "\n",
    "\n",
    "fig.show()\n"
   ]
  },
  {
   "cell_type": "markdown",
   "id": "51e9ae00-fc57-4b18-b914-e0faa580eefa",
   "metadata": {},
   "source": [
    "# Do more danceable songs tend to be more popular?"
   ]
  },
  {
   "cell_type": "code",
   "execution_count": null,
   "id": "74d05f46-2c1f-4b34-98d1-a4428052cd2a",
   "metadata": {},
   "outputs": [],
   "source": [
    "fig = px.scatter(df, \n",
    "                 x='danceability', \n",
    "                 y='popularity', \n",
    "                 title='Danceability vs Popularity',\n",
    "                 labels={'danceability': 'Danceability', 'popularity': 'Popularity'},\n",
    "                 color='popularity',\n",
    "                 color_continuous_scale='Viridis',\n",
    "                 hover_data=['artists', 'track_name'])  \n",
    "\n",
    "fig.show()\n"
   ]
  },
  {
   "cell_type": "markdown",
   "id": "0c1d7d8f-6cc6-4e5b-bac3-5d15668a103a",
   "metadata": {},
   "source": [
    "# Actual vs Predicted Song Popularity"
   ]
  },
  {
   "cell_type": "code",
   "execution_count": null,
   "id": "5dbbfc26-a49a-47fb-a1ae-c9ca121bb018",
   "metadata": {},
   "outputs": [],
   "source": [
    "from sklearn.model_selection import train_test_split\n",
    "from sklearn.linear_model import LinearRegression\n",
    "from sklearn.metrics import mean_squared_error, r2_score\n",
    "from sklearn.preprocessing import StandardScaler\n",
    "\n",
    "# Data Preprocessing: Dropping rows with missing values (if any)\n",
    "df = df.dropna(subset=['popularity', 'danceability', 'energy', 'valence', 'loudness', 'tempo'])\n",
    "\n",
    "features = ['danceability', 'energy', 'valence', 'loudness', 'tempo']\n",
    "target = 'popularity'\n",
    "\n",
    "X = df[features]\n",
    "y = df[target]\n",
    "\n",
    "# Split the data into training and testing sets\n",
    "X_train, X_test, y_train, y_test = train_test_split(X, y, test_size=0.2, random_state=42)\n",
    "\n",
    "# Standardizing the features \n",
    "scaler = StandardScaler()\n",
    "X_train_scaled = scaler.fit_transform(X_train)\n",
    "X_test_scaled = scaler.transform(X_test)\n",
    "\n",
    "# Linear Regression model\n",
    "model = LinearRegression()\n",
    "model.fit(X_train_scaled, y_train)\n",
    "\n",
    "# Predict the popularity on the test data\n",
    "y_pred = model.predict(X_test_scaled)\n",
    "\n",
    "# Evaluate the model's performance\n",
    "mse = mean_squared_error(y_test, y_pred)\n",
    "r2 = r2_score(y_test, y_pred)\n",
    "\n",
    "# evaluation metrics\n",
    "print(f\"Mean Squared Error: {mse}\")\n",
    "print(f\"R-squared: {r2}\")\n",
    "\n",
    "# Visualize the actual vs predicted popularity \n",
    "fig = px.scatter(x=y_test, y=y_pred, labels={'x': 'Actual Popularity', 'y': 'Predicted Popularity'},\n",
    "                 title=\"Actual vs Predicted Popularity\")\n",
    "fig.show()\n"
   ]
  },
  {
   "cell_type": "markdown",
   "id": "01413baa-7121-48d6-a5a7-b44c78757861",
   "metadata": {},
   "source": [
    "# Classification models to categorize songs into different genres"
   ]
  },
  {
   "cell_type": "code",
   "execution_count": null,
   "id": "13b71833-ed62-41e8-a1b4-c9ae31dd9e81",
   "metadata": {},
   "outputs": [],
   "source": [
    "from sklearn.ensemble import RandomForestClassifier\n",
    "from sklearn.metrics import classification_report, accuracy_score\n",
    "\n",
    "# Dropping rows with missing values\n",
    "df = df.dropna(subset=['track_genre', 'danceability', 'energy', 'valence', 'loudness', 'tempo'])\n",
    "\n",
    "# Selecting relevant features and target\n",
    "features = ['danceability', 'energy', 'valence', 'loudness', 'tempo']\n",
    "target = 'track_genre'\n",
    "\n",
    "X = df[features]\n",
    "y = df[target]\n",
    "\n",
    "# Split the data into training and testing sets (80% training, 20% testing)\n",
    "X_train, X_test, y_train, y_test = train_test_split(X, y, test_size=0.2, random_state=42)\n",
    "\n",
    "# Standardize the features \n",
    "scaler = StandardScaler()\n",
    "X_train_scaled = scaler.fit_transform(X_train)\n",
    "X_test_scaled = scaler.transform(X_test)\n",
    "\n",
    "# Build the Random Forest model \n",
    "model = RandomForestClassifier(n_estimators=100, random_state=42)\n",
    "model.fit(X_train_scaled, y_train)\n",
    "\n",
    "# Predict the genres on the test data\n",
    "y_pred = model.predict(X_test_scaled)\n",
    "\n",
    "# Evaluate the model's performance\n",
    "accuracy = accuracy_score(y_test, y_pred)\n",
    "print(f\"Accuracy: {accuracy * 100:.2f}%\")\n",
    "\n",
    "# classification report\n",
    "print(\"\\nClassification Report:\")\n",
    "print(classification_report(y_test, y_pred))\n",
    "\n",
    "# Visualize the actual vs predicted genres\n",
    "df_results = pd.DataFrame({'Actual': y_test, 'Predicted': y_pred})\n",
    "fig = px.scatter(df_results, x='Actual', y='Predicted', title=\"Actual vs Predicted Genres\")\n",
    "fig.show()\n"
   ]
  },
  {
   "cell_type": "markdown",
   "id": "5b64420f-4a0c-4843-92b6-ce5970e26eb4",
   "metadata": {},
   "source": [
    "# Song recommendation system based on a track’s features"
   ]
  },
  {
   "cell_type": "code",
   "execution_count": null,
   "id": "52bed3da-d8e5-4941-867e-bf819dd815e4",
   "metadata": {},
   "outputs": [],
   "source": [
    "import faiss\n",
    "import numpy as np\n",
    "\n",
    "df = df.dropna(subset=['danceability', 'energy', 'valence', 'loudness', 'tempo'])\n",
    "\n",
    "# Select features\n",
    "features = ['danceability', 'energy', 'valence', 'loudness', 'tempo']\n",
    "X = df[features].values  \n",
    "\n",
    "# Standardize the features\n",
    "scaler = StandardScaler()\n",
    "X_scaled = scaler.fit_transform(X).astype('float32')  # FAISS requires float32\n",
    "\n",
    "# FAISS index\n",
    "d = X_scaled.shape[1]  \n",
    "index = faiss.IndexFlatL2(d)  \n",
    "index.add(X_scaled)  \n",
    "\n",
    "# Function to recommend songs based on a given song index\n",
    "def recommend_song(song_idx, num_recommendations=5):\n",
    "    distances, indices = index.search(X_scaled[song_idx:song_idx+1], num_recommendations+1)\n",
    "    recommended_song_indices = indices[0][1:] \n",
    "    return df.iloc[recommended_song_indices][['album_name', 'artists', 'track_genre']]\n",
    "\n",
    "# Example\n",
    "recommended_songs = recommend_song(song_idx=2, num_recommendations=10)\n",
    "print(\"Recommended Songs:\")\n",
    "print(recommended_songs)\n"
   ]
  }
 ],
 "metadata": {
  "kernelspec": {
   "display_name": "Python 3 (ipykernel)",
   "language": "python",
   "name": "python3"
  },
  "language_info": {
   "codemirror_mode": {
    "name": "ipython",
    "version": 3
   },
   "file_extension": ".py",
   "mimetype": "text/x-python",
   "name": "python",
   "nbconvert_exporter": "python",
   "pygments_lexer": "ipython3",
   "version": "3.12.4"
  }
 },
 "nbformat": 4,
 "nbformat_minor": 5
}
